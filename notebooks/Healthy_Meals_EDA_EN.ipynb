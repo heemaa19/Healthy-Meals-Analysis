{
 "cells": [
  {
   "cell_type": "markdown",
   "id": "086eeeb3",
   "metadata": {},
   "source": [
    "\n",
    "# Healthy Meals – Exploratory Data Analysis (EDA)\n",
    "\n",
    "**Author:** Yosef Reda  \n",
    "**Objective:** Build a clear, portfolio‑ready EDA in English for a meals/nutrition dataset: cleaning, feature engineering, visuals, and a simple composite **Health Score (0–100)**.\n",
    "\n",
    "**Deliverables in this notebook**\n",
    "- Data loading & schema overview\n",
    "- Robust cleaning (duplicates, types, plausibility checks)\n",
    "- Feature engineering (kcal/100g, macro shares, Health Score)\n",
    "- Key visuals (calories distribution, diet/cuisine comparisons, correlations)\n",
    "- Top meals by Health Score / Rating\n",
    "- Save a cleaned CSV for downstream work\n",
    "\n",
    "> *Note:* This analysis is educational and comparative for this dataset only; it is **not medical advice**.\n"
   ]
  },
  {
   "cell_type": "code",
   "execution_count": null,
   "id": "0aa9fc96",
   "metadata": {},
   "outputs": [],
   "source": [
    "\n",
    "# Core imports\n",
    "import os\n",
    "import numpy as np\n",
    "import pandas as pd\n",
    "import matplotlib.pyplot as plt\n",
    "\n",
    "# Plot settings\n",
    "plt.rcParams['figure.dpi'] = 120\n",
    "plt.rcParams['font.size'] = 11\n",
    "plt.rcParams['font.family'] = 'DejaVu Sans'\n",
    "\n",
    "DATA_PATH = 'healthy_eating_dataset.csv'  # original file\n",
    "CLEAN_PATH = 'healthy_eating_dataset_clean.csv'  # output file\n"
   ]
  },
  {
   "cell_type": "code",
   "execution_count": null,
   "id": "c15106b0",
   "metadata": {},
   "outputs": [],
   "source": [
    "\n",
    "# Load dataset\n",
    "raw = pd.read_csv(DATA_PATH)\n",
    "raw_shape = raw.shape\n",
    "raw.head()\n"
   ]
  },
  {
   "cell_type": "code",
   "execution_count": null,
   "id": "aede115b",
   "metadata": {},
   "outputs": [],
   "source": [
    "\n",
    "# Basic info\n",
    "print('Original shape:', raw_shape)\n",
    "print('\n",
    "Dtypes:')\n",
    "print(raw.dtypes)\n"
   ]
  },
  {
   "cell_type": "markdown",
   "id": "f4f10489",
   "metadata": {},
   "source": [
    "\n",
    "## Cleaning Strategy\n",
    "1. **Normalize columns** (snake_case; strip spaces; unify dtypes).\n",
    "2. **Critical fields** required per row: `meal_name, cuisine, diet_type, calories, protein_g, carbs_g, fat_g`.\n",
    "3. **Plausibility checks**:\n",
    "   - Compute macro‑based kcal = `4*protein + 4*carbs + 9*fat` and compare to declared `calories`.\n",
    "   - Flag rows with |declared − macro_kcal| / declared > **50%**.\n",
    "   - Flag rows with extreme sodium (e.g., > **5000 mg**).\n",
    "4. **Derived features**: calories per 100g, macro shares (% of kcal), composite **Health Score**.\n"
   ]
  },
  {
   "cell_type": "code",
   "execution_count": null,
   "id": "c8b6596b",
   "metadata": {},
   "outputs": [],
   "source": [
    "\n",
    "# Normalize column names\n",
    "df = raw.copy()\n",
    "df.columns = (df.columns\n",
    "              .str.strip()\n",
    "              .str.lower()\n",
    "              .str.replace(' ', '_')\n",
    "              .str.replace('-', '_'))\n",
    "\n",
    "df.head(3)\n"
   ]
  },
  {
   "cell_type": "code",
   "execution_count": null,
   "id": "df1d8593",
   "metadata": {},
   "outputs": [],
   "source": [
    "\n",
    "# Ensure numeric types for known numeric columns\n",
    "num_cols = [\n",
    "    'calories','protein_g','carbs_g','fat_g','fiber_g','sugar_g',\n",
    "    'sodium_mg','cholesterol_mg','serving_size_g','prep_time_min',\n",
    "    'cook_time_min','rating','is_healthy'\n",
    "]\n",
    "for c in num_cols:\n",
    "    if c in df.columns:\n",
    "        df[c] = pd.to_numeric(df[c], errors='coerce')\n",
    "\n",
    "# Drop duplicates (prefer by meal_id if present)\n",
    "if 'meal_id' in df.columns:\n",
    "    df = df.drop_duplicates(subset=['meal_id'])\n",
    "else:\n",
    "    df = df.drop_duplicates()\n",
    "\n",
    "# Enforce presence of critical fields\n",
    "critical = ['meal_name','cuisine','diet_type','calories','protein_g','carbs_g','fat_g']\n",
    "critical_present = [c for c in critical if c in df.columns]\n",
    "df = df.dropna(subset=critical_present)\n",
    "\n",
    "# Negative values to NaN for numeric cols (will be handled downstream)\n",
    "for c in ['calories','protein_g','carbs_g','fat_g','fiber_g','sugar_g','sodium_mg','cholesterol_mg',\n",
    "          'serving_size_g','prep_time_min','cook_time_min','rating']:\n",
    "    if c in df.columns:\n",
    "        df.loc[df[c] < 0, c] = np.nan\n",
    "\n",
    "print('Shape after basic cleaning:', df.shape)\n"
   ]
  },
  {
   "cell_type": "code",
   "execution_count": null,
   "id": "c02ed899",
   "metadata": {},
   "outputs": [],
   "source": [
    "\n",
    "# Macro-based kcal and plausibility flags\n",
    "if set(['protein_g','carbs_g','fat_g','calories']).issubset(df.columns):\n",
    "    df['macro_kcal'] = 4*df['protein_g'] + 4*df['carbs_g'] + 9*df['fat_g']\n",
    "    df['kcal_diff_pct'] = np.where(df['calories']>0,\n",
    "                                   (df['calories'] - df['macro_kcal']).abs()/df['calories'],\n",
    "                                   np.nan)\n",
    "else:\n",
    "    df['macro_kcal'] = np.nan\n",
    "    df['kcal_diff_pct'] = np.nan\n",
    "\n",
    "# Flag implausible rows\n",
    "df['implausible'] = False\n",
    "if 'kcal_diff_pct' in df.columns:\n",
    "    df.loc[df['kcal_diff_pct'] > 0.50, 'implausible'] = True\n",
    "if 'sodium_mg' in df.columns:\n",
    "    df.loc[df['sodium_mg'] > 5000, 'implausible'] = True\n",
    "\n",
    "print('Implausible rows:', int(df['implausible'].sum()))\n",
    "\n",
    "clean = df.loc[~df['implausible']].copy()\n",
    "print('Shape after plausibility filter:', clean.shape)\n",
    "clean.head(3)\n"
   ]
  },
  {
   "cell_type": "code",
   "execution_count": null,
   "id": "7814d481",
   "metadata": {},
   "outputs": [],
   "source": [
    "\n",
    "# Derived fields\n",
    "if 'serving_size_g' in clean.columns:\n",
    "    clean['cal_per_100g'] = (clean['calories'] / clean['serving_size_g']) * 100\n",
    "else:\n",
    "    clean['cal_per_100g'] = np.nan\n",
    "\n",
    "# Health Score components\n",
    "\n",
    "def minmax(s, lo, hi):\n",
    "    # Return higher values for better scores within [lo, hi] range\n",
    "    return 1 - np.clip((s - lo) / (hi - lo), 0, 1)\n",
    "\n",
    "def pos_minmax(s, lo, hi):\n",
    "    # Monotonic increasing to 1 between [lo, hi]\n",
    "    return np.clip((s - lo) / (hi - lo), 0, 1)\n",
    "\n",
    "clean['score_cal'] = minmax(clean['calories'], 200, 800)\n",
    "clean['score_sodium'] = minmax(clean['sodium_mg'], 0, 1500) if 'sodium_mg' in clean.columns else np.nan\n",
    "clean['score_sugar'] = minmax(clean['sugar_g'], 0, 25) if 'sugar_g' in clean.columns else np.nan\n",
    "clean['score_fiber'] = pos_minmax(clean['fiber_g'], 5, 15) if 'fiber_g' in clean.columns else np.nan\n",
    "\n",
    "# Macro % shares\n",
    "macro_total_kcal = clean['macro_kcal'].replace(0, np.nan)\n",
    "clean['pct_p'] = (4*clean['protein_g'] / macro_total_kcal) * 100\n",
    "clean['pct_c'] = (4*clean['carbs_g'] / macro_total_kcal) * 100\n",
    "clean['pct_f'] = (9*clean['fat_g'] / macro_total_kcal) * 100\n",
    "\n",
    "# Macro balance score (1 if within target range, taper to 0 at +/-20% abs)\n",
    "\n",
    "def in_range_score(pct, lo, hi):\n",
    "    score = np.where(pd.isna(pct), np.nan, 1.0)\n",
    "    score = score * (1 - np.clip(np.maximum(lo - pct, pct - hi) / 20.0, 0, 1))\n",
    "    return score\n",
    "\n",
    "clean['score_macro'] = (\n",
    "    in_range_score(clean['pct_p'], 20, 35) +\n",
    "    in_range_score(clean['pct_c'], 40, 55) +\n",
    "    in_range_score(clean['pct_f'], 20, 35)\n",
    ") / 3.0\n",
    "\n",
    "score_cols = ['score_cal','score_sodium','score_sugar','score_fiber','score_macro']\n",
    "clean['health_score'] = clean[score_cols].mean(axis=1, skipna=True) * 100\n",
    "\n",
    "clean[['meal_name','cuisine','diet_type','calories','health_score']].head()\n"
   ]
  },
  {
   "cell_type": "code",
   "execution_count": null,
   "id": "07edefb0",
   "metadata": {},
   "outputs": [],
   "source": [
    "\n",
    "summary = {\n",
    "    'Rows (original)': raw_shape[0],\n",
    "    'Columns (original)': raw_shape[1],\n",
    "    'Rows after cleaning': int(clean.shape[0]),\n",
    "    'Excluded rows %': round((1 - clean.shape[0]/raw_shape[0]) * 100, 2)\n",
    "}\n",
    "summary\n"
   ]
  },
  {
   "cell_type": "markdown",
   "id": "86294d5b",
   "metadata": {},
   "source": [
    "\n",
    "## Key Visuals\n"
   ]
  },
  {
   "cell_type": "code",
   "execution_count": null,
   "id": "4d19d75f",
   "metadata": {},
   "outputs": [],
   "source": [
    "\n",
    "# 9.1 Calories distribution\n",
    "ax = clean['calories'].dropna().plot(kind='hist', bins=40, color='#5DADE2', edgecolor='white')\n",
    "ax.set_title('Calories Distribution')\n",
    "ax.set_xlabel('Calories (kcal)')\n",
    "ax.set_ylabel('Number of Meals')\n",
    "plt.show()\n"
   ]
  },
  {
   "cell_type": "code",
   "execution_count": null,
   "id": "cc513dbe",
   "metadata": {},
   "outputs": [],
   "source": [
    "\n",
    "# 9.2 Calories by diet type\n",
    "if 'diet_type' in clean.columns:\n",
    "    clean.boxplot(column='calories', by='diet_type', vert=True)\n",
    "    plt.suptitle('')\n",
    "    plt.title('Calories by Diet Type')\n",
    "    plt.xlabel('Diet Type')\n",
    "    plt.ylabel('Calories (kcal)')\n",
    "    plt.show()\n"
   ]
  },
  {
   "cell_type": "code",
   "execution_count": null,
   "id": "9646b711",
   "metadata": {},
   "outputs": [],
   "source": [
    "\n",
    "# 9.3 Avg Health Score by cuisine (Top 10 by count)\n",
    "if 'cuisine' in clean.columns:\n",
    "    top_cuisines = clean['cuisine'].value_counts().nlargest(10).index\n",
    "    (clean[clean['cuisine'].isin(top_cuisines)]\n",
    "        .groupby('cuisine')['health_score']\n",
    "        .mean()\n",
    "        .sort_values()\n",
    "        .plot(kind='barh', color='#58D68D'))\n",
    "    plt.title('Avg Health Score by Cuisine (Top 10)')\n",
    "    plt.xlabel('Score (0–100)')\n",
    "    plt.ylabel('Cuisine')\n",
    "    plt.show()\n"
   ]
  },
  {
   "cell_type": "code",
   "execution_count": null,
   "id": "035f3850",
   "metadata": {},
   "outputs": [],
   "source": [
    "\n",
    "# 9.4 Share of meals labeled healthy by diet type\n",
    "if 'is_healthy' in clean.columns and 'diet_type' in clean.columns:\n",
    "    ratio = clean.groupby('diet_type')['is_healthy'].mean().sort_values()\n",
    "    ratio.plot(kind='barh', color='#AF7AC5')\n",
    "    plt.title('Share of Meals Labeled Healthy (by Diet Type)')\n",
    "    plt.xlabel('Share')\n",
    "    plt.ylabel('Diet Type')\n",
    "    plt.show()\n"
   ]
  },
  {
   "cell_type": "code",
   "execution_count": null,
   "id": "d89ab835",
   "metadata": {},
   "outputs": [],
   "source": [
    "\n",
    "# 9.5 Correlation heatmap for numeric features\n",
    "num_for_corr = clean.select_dtypes(include=[np.number]).drop(columns=['meal_id'], errors='ignore')\n",
    "if num_for_corr.shape[1] >= 2:\n",
    "    corr = num_for_corr.corr(numeric_only=True)\n",
    "    plt.imshow(corr, cmap='viridis', interpolation='nearest')\n",
    "    plt.colorbar(label='Correlation')\n",
    "    plt.xticks(range(corr.shape[1]), corr.columns, rotation=90)\n",
    "    plt.yticks(range(corr.shape[0]), corr.index)\n",
    "    plt.title('Correlation Heatmap (Numeric Features)')\n",
    "    plt.tight_layout()\n",
    "    plt.show()\n"
   ]
  },
  {
   "cell_type": "markdown",
   "id": "e9114da0",
   "metadata": {},
   "source": [
    "\n",
    "## Top Meals\n"
   ]
  },
  {
   "cell_type": "code",
   "execution_count": null,
   "id": "be0e3747",
   "metadata": {},
   "outputs": [],
   "source": [
    "\n",
    "# Top 5 by Health Score\n",
    "cols = ['meal_name','cuisine','diet_type','calories','health_score']\n",
    "clean.sort_values('health_score', ascending=False)[cols].head(5)\n"
   ]
  },
  {
   "cell_type": "code",
   "execution_count": null,
   "id": "2720fae6",
   "metadata": {},
   "outputs": [],
   "source": [
    "\n",
    "# Top 5 by Rating (if available)\n",
    "if 'rating' in clean.columns:\n",
    "    clean.sort_values('rating', ascending=False)[['meal_name','cuisine','diet_type','calories','rating']].head(5)\n"
   ]
  },
  {
   "cell_type": "code",
   "execution_count": null,
   "id": "f3f1fa98",
   "metadata": {},
   "outputs": [],
   "source": [
    "\n",
    "# Save cleaned dataset for downstream tasks\n",
    "clean.to_csv(CLEAN_PATH, index=False)\n",
    "CLEAN_PATH\n"
   ]
  },
  {
   "cell_type": "markdown",
   "id": "9c67b619",
   "metadata": {},
   "source": [
    "\n",
    "## Next Steps\n",
    "- Add a **classification model** to predict `is_healthy` (e.g., Logistic Regression / Random Forest) with evaluation metrics.\n",
    "- Or a **regression model** to predict `rating` and analyze key drivers.\n",
    "- Publish a **dashboard** (Power BI / Excel) with slicers for Cuisine, Diet Type, Cooking Method.\n",
    "- Package this notebook + figures + cleaned CSV into a public GitHub repo with a polished README.\n"
   ]
  }
 ],
 "metadata": {},
 "nbformat": 4,
 "nbformat_minor": 5
}
